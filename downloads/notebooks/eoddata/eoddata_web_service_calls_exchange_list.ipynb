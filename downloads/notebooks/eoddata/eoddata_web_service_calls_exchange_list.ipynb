{
 "cells": [
  {
   "cell_type": "markdown",
   "metadata": {
    "toc": "true"
   },
   "source": [
    "# Table of Contents\n",
    " <p><div class=\"lev1 toc-item\"><a href=\"#Summary\" data-toc-modified-id=\"Summary-1\"><span class=\"toc-item-num\">1&nbsp;&nbsp;</span>Summary</a></div><div class=\"lev1 toc-item\"><a href=\"#Version-Control\" data-toc-modified-id=\"Version-Control-2\"><span class=\"toc-item-num\">2&nbsp;&nbsp;</span>Version Control</a></div><div class=\"lev1 toc-item\"><a href=\"#Change-Log\" data-toc-modified-id=\"Change-Log-3\"><span class=\"toc-item-num\">3&nbsp;&nbsp;</span>Change Log</a></div><div class=\"lev1 toc-item\"><a href=\"#Setup\" data-toc-modified-id=\"Setup-4\"><span class=\"toc-item-num\">4&nbsp;&nbsp;</span>Setup</a></div><div class=\"lev1 toc-item\"><a href=\"#ExchangeList()\" data-toc-modified-id=\"ExchangeList()-5\"><span class=\"toc-item-num\">5&nbsp;&nbsp;</span>ExchangeList()</a></div><div class=\"lev2 toc-item\"><a href=\"#Web-service-call\" data-toc-modified-id=\"Web-service-call-51\"><span class=\"toc-item-num\">5.1&nbsp;&nbsp;</span>Web service call</a></div><div class=\"lev3 toc-item\"><a href=\"#Gather-elements\" data-toc-modified-id=\"Gather-elements-511\"><span class=\"toc-item-num\">5.1.1&nbsp;&nbsp;</span>Gather elements</a></div><div class=\"lev3 toc-item\"><a href=\"#Get-data\" data-toc-modified-id=\"Get-data-512\"><span class=\"toc-item-num\">5.1.2&nbsp;&nbsp;</span>Get data</a></div><div class=\"lev3 toc-item\"><a href=\"#Save-to-file\" data-toc-modified-id=\"Save-to-file-513\"><span class=\"toc-item-num\">5.1.3&nbsp;&nbsp;</span>Save to file</a></div><div class=\"lev3 toc-item\"><a href=\"#Data-inspection\" data-toc-modified-id=\"Data-inspection-514\"><span class=\"toc-item-num\">5.1.4&nbsp;&nbsp;</span>Data inspection</a></div><div class=\"lev2 toc-item\"><a href=\"#Helper-function\" data-toc-modified-id=\"Helper-function-52\"><span class=\"toc-item-num\">5.2&nbsp;&nbsp;</span>Helper function</a></div><div class=\"lev3 toc-item\"><a href=\"#Usage\" data-toc-modified-id=\"Usage-521\"><span class=\"toc-item-num\">5.2.1&nbsp;&nbsp;</span>Usage</a></div><div class=\"lev2 toc-item\"><a href=\"#Client-function\" data-toc-modified-id=\"Client-function-53\"><span class=\"toc-item-num\">5.3&nbsp;&nbsp;</span>Client function</a></div>"
   ]
  },
  {
   "cell_type": "markdown",
   "metadata": {},
   "source": [
    "# Summary\n",
    "\n",
    "Part of the blog series related to making web service calls to Eoddata.com. Overview of the web service can be found [here](http://ws.eoddata.com/data.asmx).\n",
    "\n",
    " * ** View the master post of this series to build a secure credentials file.** It is used in all posts related to this series.\n",
    " * Download the [class definition file](https://adriantorrie.github.io/downloads/code/eoddata.py) for an easy to use client, which is demonstrated below\n",
    " * This post covers the `ExchangeList` call: http://ws.eoddata.com/data.asmx?op=ExchangeList"
   ]
  },
  {
   "cell_type": "markdown",
   "metadata": {},
   "source": [
    "# Version Control"
   ]
  },
  {
   "cell_type": "code",
   "execution_count": 1,
   "metadata": {
    "ExecuteTime": {
     "end_time": "2017-03-25T03:10:23.647683Z",
     "start_time": "2017-03-25T14:10:21.996850+11:00"
    },
    "collapsed": false
   },
   "outputs": [
    {
     "name": "stdout",
     "output_type": "stream",
     "text": [
      "Python: 3.5.3 |Continuum Analytics, Inc.| (default, Feb 22 2017, 21:13:27) \n",
      "[GCC 4.4.7 20120313 (Red Hat 4.4.7-1)]\n",
      "\n",
      "matplotlib:\t2.0.0\n",
      "numpy:\t\t1.12.0\n",
      "pandas:\t\t0.19.2\n",
      "quandl:\t\t3.0.1\n",
      "requests:\t2.12.4\n",
      "sklearn:\t0.18.1\n",
      "scipy:\t\t0.18.1\n",
      "statsmodels:\t0.8.0\n",
      "tensorflow:\t1.0.1\n"
     ]
    }
   ],
   "source": [
    "%run ../../code/version_check.py"
   ]
  },
  {
   "cell_type": "markdown",
   "metadata": {},
   "source": [
    "# Change Log"
   ]
  },
  {
   "cell_type": "markdown",
   "metadata": {
    "ExecuteTime": {
     "end_time": "2017-03-25T01:44:55.931699Z",
     "start_time": "2017-03-25T12:44:55.922319+11:00"
    }
   },
   "source": [
    "    Date Created: 2017-03-25\n",
    "    \n",
    "    Date of Change    Change Notes\n",
    "    --------------    ----------------------------------------------------------------\n",
    "    2017-03-25        Initial draft\n",
    "    2017-04-02        Changed any references for `get_exchange_list()` to `exchange_list()`"
   ]
  },
  {
   "cell_type": "markdown",
   "metadata": {},
   "source": [
    "# Setup"
   ]
  },
  {
   "cell_type": "code",
   "execution_count": 2,
   "metadata": {
    "ExecuteTime": {
     "end_time": "2017-03-25T03:10:25.391971Z",
     "start_time": "2017-03-25T14:10:23.649424+11:00"
    },
    "collapsed": false
   },
   "outputs": [],
   "source": [
    "%run ../../code/eoddata.py\n",
    "\n",
    "import pandas as pd\n",
    "import requests as r\n",
    "\n",
    "ws = 'http://ws.eoddata.com/data.asmx'\n",
    "ns='http://ws.eoddata.com/Data'\n",
    "\n",
    "with (Client()) as eoddata:\n",
    "    token = eoddata.get_token()"
   ]
  },
  {
   "cell_type": "markdown",
   "metadata": {},
   "source": [
    "# ExchangeList()"
   ]
  },
  {
   "cell_type": "markdown",
   "metadata": {
    "ExecuteTime": {
     "end_time": "2017-03-25T01:31:06.071998Z",
     "start_time": "2017-03-25T12:31:06.069508+11:00"
    }
   },
   "source": [
    "## Web service call"
   ]
  },
  {
   "cell_type": "code",
   "execution_count": 3,
   "metadata": {
    "ExecuteTime": {
     "end_time": "2017-03-25T03:10:26.642951Z",
     "start_time": "2017-03-25T14:10:25.396202+11:00"
    },
    "collapsed": false
   },
   "outputs": [],
   "source": [
    "session = r.Session()\n",
    "\n",
    "call = 'ExchangeList'\n",
    "kwargs = {'Token': token,}\n",
    "pattern = \".//{%s}EXCHANGE\"\n",
    "\n",
    "url = '/'.join((ws, call))\n",
    "response = session.get(url, params=kwargs, stream=True)\n",
    "\n",
    "if response.status_code == 200:\n",
    "    root = etree.parse(response.raw).getroot()\n",
    "    \n",
    "session.close()"
   ]
  },
  {
   "cell_type": "markdown",
   "metadata": {},
   "source": [
    "### Gather elements"
   ]
  },
  {
   "cell_type": "code",
   "execution_count": 4,
   "metadata": {
    "ExecuteTime": {
     "end_time": "2017-03-25T03:10:26.652881Z",
     "start_time": "2017-03-25T14:10:26.647417+11:00"
    },
    "collapsed": false
   },
   "outputs": [],
   "source": [
    "elements = root.findall(pattern %(ns))"
   ]
  },
  {
   "cell_type": "markdown",
   "metadata": {},
   "source": [
    "### Get data"
   ]
  },
  {
   "cell_type": "code",
   "execution_count": 5,
   "metadata": {
    "ExecuteTime": {
     "end_time": "2017-03-25T03:10:26.776328Z",
     "start_time": "2017-03-25T14:10:26.657277+11:00"
    },
    "collapsed": false
   },
   "outputs": [
    {
     "data": {
      "text/plain": [
       "['AMEX',\n",
       " 'AMS',\n",
       " 'ASX',\n",
       " 'BRU',\n",
       " 'BSE',\n",
       " 'CBOT',\n",
       " 'CFE',\n",
       " 'CME',\n",
       " 'COMEX',\n",
       " 'EUREX',\n",
       " 'FOREX',\n",
       " 'HKEX',\n",
       " 'INDEX',\n",
       " 'KCBT',\n",
       " 'LIFFE',\n",
       " 'LIS',\n",
       " 'LSE',\n",
       " 'MGEX',\n",
       " 'MLSE',\n",
       " 'NASDAQ',\n",
       " 'NSE',\n",
       " 'NYBOT',\n",
       " 'NYMEX',\n",
       " 'NYSE',\n",
       " 'NZX',\n",
       " 'OTCBB',\n",
       " 'PAR',\n",
       " 'SGX',\n",
       " 'TSX',\n",
       " 'TSXV',\n",
       " 'USMF',\n",
       " 'WCE']"
      ]
     },
     "execution_count": 5,
     "metadata": {},
     "output_type": "execute_result"
    }
   ],
   "source": [
    "exchanges = sorted(element.get('Code') for element in elements)\n",
    "exchanges"
   ]
  },
  {
   "cell_type": "markdown",
   "metadata": {},
   "source": [
    "### Save to file"
   ]
  },
  {
   "cell_type": "code",
   "execution_count": 6,
   "metadata": {
    "ExecuteTime": {
     "end_time": "2017-03-25T03:10:26.890586Z",
     "start_time": "2017-03-25T14:10:26.777941+11:00"
    },
    "collapsed": true
   },
   "outputs": [],
   "source": [
    "with open('../../data/exchanges.csv', 'w') as f:\n",
    "    for element in elements:\n",
    "        f.write('\"%s\"\\n' % '\",\"'.join(element.attrib.values()))"
   ]
  },
  {
   "cell_type": "markdown",
   "metadata": {},
   "source": [
    "### Data inspection"
   ]
  },
  {
   "cell_type": "code",
   "execution_count": 7,
   "metadata": {
    "ExecuteTime": {
     "end_time": "2017-03-25T03:10:27.042586Z",
     "start_time": "2017-03-25T14:10:26.892932+11:00"
    },
    "collapsed": false
   },
   "outputs": [
    {
     "name": "stdout",
     "output_type": "stream",
     "text": [
      "('Source', 'Data.ExchangeList')\n",
      "('Date', '2017-03-24T22:08:18.206625-05:00')\n",
      "('Message', 'Success')\n"
     ]
    }
   ],
   "source": [
    "for item in root.items():\n",
    "    print (item)"
   ]
  },
  {
   "cell_type": "code",
   "execution_count": 8,
   "metadata": {
    "ExecuteTime": {
     "end_time": "2017-03-25T03:10:27.174558Z",
     "start_time": "2017-03-25T14:10:27.044574+11:00"
    },
    "collapsed": false
   },
   "outputs": [
    {
     "name": "stdout",
     "output_type": "stream",
     "text": [
      "{'Source': 'Data.ExchangeList', 'Date': '2017-03-24T22:08:18.206625-05:00', 'Message': 'Success'}\n",
      "{}\n",
      "{'HasIntradayProduct': 'true', 'LastTradeDateTime': '2017-03-24T09:37:25', 'Country': 'US', 'IntradayStartDate': '2008-01-01T00:00:00', 'Declines': '897', 'Advances': '3223', 'TimeZone': 'Eastern Standard Time', 'Suffix': '', 'Name': 'American Stock Exchange', 'IsIntraday': 'true', 'Code': 'AMEX', 'Currency': 'USD'}\n",
      "{'HasIntradayProduct': 'false', 'LastTradeDateTime': '2017-03-24T00:00:00', 'Country': 'AU', 'IntradayStartDate': '0001-01-01T00:00:00', 'Declines': '494', 'Advances': '14939', 'TimeZone': 'AUS Eastern Standard Time', 'Suffix': 'AX', 'Name': 'Australian Securities Exchange', 'IsIntraday': 'false', 'Code': 'ASX', 'Currency': 'AUD'}\n",
      "{'HasIntradayProduct': 'false', 'LastTradeDateTime': '2017-03-24T00:00:00', 'Country': 'IN', 'IntradayStartDate': '0001-01-01T00:00:00', 'Declines': '0', 'Advances': '4370', 'TimeZone': 'India Standard Time', 'Suffix': 'I', 'Name': 'Bombay Stock Exchange', 'IsIntraday': 'false', 'Code': 'BSE', 'Currency': 'INR'}\n",
      "{'HasIntradayProduct': 'true', 'LastTradeDateTime': '2017-03-24T00:00:00', 'Country': 'US', 'IntradayStartDate': '2009-01-01T00:00:00', 'Declines': '234', 'Advances': '101646', 'TimeZone': 'Central Standard Time', 'Suffix': '', 'Name': 'Chicago Board of Trade', 'IsIntraday': 'true', 'Code': 'CBOT', 'Currency': 'USD'}\n",
      "{'HasIntradayProduct': 'true', 'LastTradeDateTime': '2017-03-24T00:00:00', 'Country': 'US', 'IntradayStartDate': '2009-01-01T00:00:00', 'Declines': '0', 'Advances': '195', 'TimeZone': 'Central Standard Time', 'Suffix': '', 'Name': 'Chicago Futures Exchange', 'IsIntraday': 'true', 'Code': 'CFE', 'Currency': 'USD'}\n",
      "{'HasIntradayProduct': 'true', 'LastTradeDateTime': '2017-03-24T00:00:00', 'Country': 'US', 'IntradayStartDate': '2009-01-01T00:00:00', 'Declines': '569', 'Advances': '211497', 'TimeZone': 'Eastern Standard Time', 'Suffix': '', 'Name': 'Chicago Merchantile Exchange', 'IsIntraday': 'true', 'Code': 'CME', 'Currency': 'USD'}\n",
      "{'HasIntradayProduct': 'false', 'LastTradeDateTime': '2017-03-24T00:00:00', 'Country': 'CH', 'IntradayStartDate': '0001-01-01T00:00:00', 'Declines': '0', 'Advances': '1853', 'TimeZone': 'GMT Standard Time', 'Suffix': '', 'Name': 'EUREX Futures Exchange', 'IsIntraday': 'false', 'Code': 'EUREX', 'Currency': 'EUR'}\n",
      "{'HasIntradayProduct': 'false', 'LastTradeDateTime': '2017-03-24T00:00:00', 'Country': 'NL', 'IntradayStartDate': '0001-01-01T00:00:00', 'Declines': '0', 'Advances': '149', 'TimeZone': 'GMT Standard Time', 'Suffix': 'AS', 'Name': 'Euronext Amsterdam', 'IsIntraday': 'false', 'Code': 'AMS', 'Currency': 'EUR'}\n",
      "{'HasIntradayProduct': 'false', 'LastTradeDateTime': '2017-03-24T00:00:00', 'Country': 'BE', 'IntradayStartDate': '0001-01-01T00:00:00', 'Declines': '0', 'Advances': '196', 'TimeZone': 'GMT Standard Time', 'Suffix': 'BR', 'Name': 'Euronext Brussels', 'IsIntraday': 'false', 'Code': 'BRU', 'Currency': 'EUR'}\n",
      "{'HasIntradayProduct': 'false', 'LastTradeDateTime': '2017-03-24T00:00:00', 'Country': 'PT', 'IntradayStartDate': '0001-01-01T00:00:00', 'Declines': '0', 'Advances': '50', 'TimeZone': 'GMT Standard Time', 'Suffix': 'LS', 'Name': 'Euronext Lisbon', 'IsIntraday': 'false', 'Code': 'LIS', 'Currency': 'EUR'}\n",
      "{'HasIntradayProduct': 'false', 'LastTradeDateTime': '2017-03-24T09:00:00', 'Country': 'FR', 'IntradayStartDate': '0001-01-01T00:00:00', 'Declines': '0', 'Advances': '1817', 'TimeZone': 'GMT Standard Time', 'Suffix': 'PA', 'Name': 'Euronext Paris', 'IsIntraday': 'false', 'Code': 'PAR', 'Currency': 'EUR'}\n",
      "{'HasIntradayProduct': 'false', 'LastTradeDateTime': '2017-03-24T16:11:28', 'Country': 'US', 'IntradayStartDate': '0001-01-01T00:00:00', 'Declines': '57', 'Advances': '946', 'TimeZone': 'Eastern Standard Time', 'Suffix': '', 'Name': 'Foreign Exchange', 'IsIntraday': 'false', 'Code': 'FOREX', 'Currency': ''}\n",
      "{'HasIntradayProduct': 'false', 'LastTradeDateTime': '2017-03-24T10:02:00', 'Country': 'US', 'IntradayStartDate': '0001-01-01T00:00:00', 'Declines': '4', 'Advances': '2750', 'TimeZone': 'Eastern Standard Time', 'Suffix': 'IDX', 'Name': 'Global Indices', 'IsIntraday': 'false', 'Code': 'INDEX', 'Currency': ''}\n",
      "{'HasIntradayProduct': 'false', 'LastTradeDateTime': '2017-03-24T00:00:00', 'Country': 'HK', 'IntradayStartDate': '0001-01-01T00:00:00', 'Declines': '700', 'Advances': '1983', 'TimeZone': 'Singapore Standard Time', 'Suffix': 'HK', 'Name': 'Hong Kong Stock Exchange', 'IsIntraday': 'false', 'Code': 'HKEX', 'Currency': 'HKD'}\n",
      "{'HasIntradayProduct': 'true', 'LastTradeDateTime': '2017-03-24T00:00:00', 'Country': 'US', 'IntradayStartDate': '2009-01-01T00:00:00', 'Declines': '21', 'Advances': '2094', 'TimeZone': 'Central Standard Time', 'Suffix': '', 'Name': 'Kansas City Board of Trade', 'IsIntraday': 'true', 'Code': 'KCBT', 'Currency': 'USD'}\n",
      "{'HasIntradayProduct': 'false', 'LastTradeDateTime': '2017-03-24T00:00:00', 'Country': 'US', 'IntradayStartDate': '0001-01-01T00:00:00', 'Declines': '0', 'Advances': '2085', 'TimeZone': 'GMT Standard Time', 'Suffix': '', 'Name': 'LIFFE Futures and Options', 'IsIntraday': 'false', 'Code': 'LIFFE', 'Currency': 'USD'}\n",
      "{'HasIntradayProduct': 'false', 'LastTradeDateTime': '2017-03-24T00:00:00', 'Country': 'UK', 'IntradayStartDate': '0001-01-01T00:00:00', 'Declines': '2622', 'Advances': '38220', 'TimeZone': 'GMT Standard Time', 'Suffix': 'L', 'Name': 'London Stock Exchange', 'IsIntraday': 'false', 'Code': 'LSE', 'Currency': 'GBP'}\n",
      "{'HasIntradayProduct': 'false', 'LastTradeDateTime': '2017-03-24T00:00:00', 'Country': 'IT', 'IntradayStartDate': '0001-01-01T00:00:00', 'Declines': '112', 'Advances': '181', 'TimeZone': 'Central European Standard Time', 'Suffix': 'MI', 'Name': 'Milan Stock Exchange', 'IsIntraday': 'false', 'Code': 'MLSE', 'Currency': 'EUR'}\n",
      "{'HasIntradayProduct': 'true', 'LastTradeDateTime': '2017-03-24T00:00:00', 'Country': 'US', 'IntradayStartDate': '2009-01-01T00:00:00', 'Declines': '96', 'Advances': '14989', 'TimeZone': 'Central Standard Time', 'Suffix': '', 'Name': 'Minneapolis Grain Exchange', 'IsIntraday': 'true', 'Code': 'MGEX', 'Currency': 'USD'}\n",
      "{'HasIntradayProduct': 'false', 'LastTradeDateTime': '2017-03-23T00:00:00', 'Country': 'US', 'IntradayStartDate': '0001-01-01T00:00:00', 'Declines': '16958', 'Advances': '31956', 'TimeZone': 'Eastern Standard Time', 'Suffix': '', 'Name': 'Mutual Funds', 'IsIntraday': 'false', 'Code': 'USMF', 'Currency': 'USD'}\n",
      "{'HasIntradayProduct': 'true', 'LastTradeDateTime': '2017-03-24T15:29:09', 'Country': 'US', 'IntradayStartDate': '2008-01-01T00:00:00', 'Declines': '1837', 'Advances': '5598', 'TimeZone': 'Eastern Standard Time', 'Suffix': '', 'Name': 'NASDAQ Stock Exchange', 'IsIntraday': 'true', 'Code': 'NASDAQ', 'Currency': 'USD'}\n",
      "{'HasIntradayProduct': 'false', 'LastTradeDateTime': '2017-03-24T09:10:00', 'Country': 'IN', 'IntradayStartDate': '0001-01-01T00:00:00', 'Declines': '0', 'Advances': '1254', 'TimeZone': 'GMT Standard Time', 'Suffix': 'I', 'Name': 'National Stock Exchange of India', 'IsIntraday': 'false', 'Code': 'NSE', 'Currency': 'INR'}\n",
      "{'HasIntradayProduct': 'true', 'LastTradeDateTime': '2017-03-24T00:00:00', 'Country': 'US', 'IntradayStartDate': '2009-01-01T00:00:00', 'Declines': '207', 'Advances': '88181', 'TimeZone': 'Eastern Standard Time', 'Suffix': '', 'Name': 'New York Board of Trade', 'IsIntraday': 'true', 'Code': 'NYBOT', 'Currency': 'USD'}\n",
      "{'HasIntradayProduct': 'true', 'LastTradeDateTime': '2017-03-24T00:00:00', 'Country': 'US', 'IntradayStartDate': '2009-01-01T00:00:00', 'Declines': '150', 'Advances': '33448', 'TimeZone': 'Eastern Standard Time', 'Suffix': '', 'Name': 'New York Commodity Exchange', 'IsIntraday': 'true', 'Code': 'COMEX', 'Currency': 'USD'}\n",
      "{'HasIntradayProduct': 'true', 'LastTradeDateTime': '2017-03-24T00:00:00', 'Country': 'US', 'IntradayStartDate': '2009-01-01T00:00:00', 'Declines': '237', 'Advances': '17179', 'TimeZone': 'Eastern Standard Time', 'Suffix': '', 'Name': 'New York Merchantile Exchange', 'IsIntraday': 'true', 'Code': 'NYMEX', 'Currency': 'USD'}\n",
      "{'HasIntradayProduct': 'true', 'LastTradeDateTime': '2017-03-24T16:59:59', 'Country': 'US', 'IntradayStartDate': '2008-01-01T00:00:00', 'Declines': '1880', 'Advances': '4687', 'TimeZone': 'Eastern Standard Time', 'Suffix': '', 'Name': 'New York Stock Exchange', 'IsIntraday': 'true', 'Code': 'NYSE', 'Currency': 'USD'}\n",
      "{'HasIntradayProduct': 'false', 'LastTradeDateTime': '2017-03-24T00:00:00', 'Country': 'NZ', 'IntradayStartDate': '0001-01-01T00:00:00', 'Declines': '44', 'Advances': '1061', 'TimeZone': 'New Zealand Standard Time', 'Suffix': 'NZ', 'Name': 'New Zealand Exchange', 'IsIntraday': 'false', 'Code': 'NZX', 'Currency': 'NZD'}\n",
      "{'HasIntradayProduct': 'true', 'LastTradeDateTime': '2017-03-24T09:37:26', 'Country': 'US', 'IntradayStartDate': '2009-01-01T00:00:00', 'Declines': '2112', 'Advances': '34817', 'TimeZone': 'Eastern Standard Time', 'Suffix': 'OB', 'Name': 'OTC Bulletin Board', 'IsIntraday': 'true', 'Code': 'OTCBB', 'Currency': 'USD'}\n",
      "{'HasIntradayProduct': 'false', 'LastTradeDateTime': '2017-03-24T00:00:00', 'Country': 'SG', 'IntradayStartDate': '0001-01-01T00:00:00', 'Declines': '499', 'Advances': '12435', 'TimeZone': 'Singapore Standard Time', 'Suffix': 'SI', 'Name': 'Singapore Stock Exchange', 'IsIntraday': 'false', 'Code': 'SGX', 'Currency': 'SGD'}\n",
      "{'HasIntradayProduct': 'false', 'LastTradeDateTime': '2017-03-24T00:00:00', 'Country': 'CA', 'IntradayStartDate': '0001-01-01T00:00:00', 'Declines': '882', 'Advances': '5746', 'TimeZone': 'Mountain Standard Time', 'Suffix': 'TO', 'Name': 'Toronto Stock Exchange', 'IsIntraday': 'false', 'Code': 'TSX', 'Currency': 'CAD'}\n",
      "{'HasIntradayProduct': 'false', 'LastTradeDateTime': '2017-03-24T00:00:00', 'Country': 'CA', 'IntradayStartDate': '0001-01-01T00:00:00', 'Declines': '562', 'Advances': '5035', 'TimeZone': 'Mountain Standard Time', 'Suffix': 'V', 'Name': 'Toronto Venture Exchange', 'IsIntraday': 'false', 'Code': 'TSXV', 'Currency': 'CAD'}\n",
      "{'HasIntradayProduct': 'true', 'LastTradeDateTime': '2017-03-24T00:00:00', 'Country': 'US', 'IntradayStartDate': '2009-01-01T00:00:00', 'Declines': '1', 'Advances': '9981', 'TimeZone': 'Central Standard Time', 'Suffix': '', 'Name': 'Winnipeg Commodity Exchange', 'IsIntraday': 'true', 'Code': 'WCE', 'Currency': 'USD'}\n"
     ]
    }
   ],
   "source": [
    "for element in root.iter():\n",
    "    print(element.attrib)"
   ]
  },
  {
   "cell_type": "markdown",
   "metadata": {},
   "source": [
    "## Helper function"
   ]
  },
  {
   "cell_type": "code",
   "execution_count": 9,
   "metadata": {
    "ExecuteTime": {
     "end_time": "2017-03-25T03:10:27.267637Z",
     "start_time": "2017-03-25T14:10:27.177138+11:00"
    },
    "collapsed": true
   },
   "outputs": [],
   "source": [
    "def ExchangeList(session, token):\n",
    "    call = 'ExchangeList'\n",
    "    kwargs = {'Token': token,}\n",
    "    pattern = \".//{%s}EXCHANGE\"\n",
    "\n",
    "    url = '/'.join((ws, call))\n",
    "    response = session.get(url, params=kwargs, stream=True)\n",
    "\n",
    "    if response.status_code == 200:\n",
    "        root = etree.parse(response.raw).getroot()\n",
    "        \n",
    "    return sorted(element.get('Code') for element in elements)"
   ]
  },
  {
   "cell_type": "markdown",
   "metadata": {},
   "source": [
    "### Usage"
   ]
  },
  {
   "cell_type": "code",
   "execution_count": 10,
   "metadata": {
    "ExecuteTime": {
     "end_time": "2017-03-25T03:10:28.692087Z",
     "start_time": "2017-03-25T14:10:27.269510+11:00"
    },
    "collapsed": false
   },
   "outputs": [],
   "source": [
    "session = r.session()\n",
    "\n",
    "exchanges = ExchangeList(session, token)\n",
    "exchanges\n",
    "\n",
    "session.close()"
   ]
  },
  {
   "cell_type": "markdown",
   "metadata": {},
   "source": [
    "## Client function"
   ]
  },
  {
   "cell_type": "code",
   "execution_count": 11,
   "metadata": {
    "ExecuteTime": {
     "end_time": "2017-03-25T03:10:30.038591Z",
     "start_time": "2017-03-25T14:10:28.696416+11:00"
    },
    "collapsed": false
   },
   "outputs": [
    {
     "data": {
      "text/html": [
       "<div>\n",
       "<table border=\"1\" class=\"dataframe\">\n",
       "  <thead>\n",
       "    <tr style=\"text-align: right;\">\n",
       "      <th></th>\n",
       "      <th>HasIntradayProduct</th>\n",
       "      <th>LastTradeDateTime</th>\n",
       "      <th>Country</th>\n",
       "      <th>IntradayStartDate</th>\n",
       "      <th>Declines</th>\n",
       "      <th>Advances</th>\n",
       "      <th>TimeZone</th>\n",
       "      <th>Suffix</th>\n",
       "      <th>Name</th>\n",
       "      <th>IsIntraday</th>\n",
       "      <th>Code</th>\n",
       "      <th>Currency</th>\n",
       "    </tr>\n",
       "  </thead>\n",
       "  <tbody>\n",
       "    <tr>\n",
       "      <th>0</th>\n",
       "      <td>true</td>\n",
       "      <td>2017-03-24T09:37:25</td>\n",
       "      <td>US</td>\n",
       "      <td>2008-01-01T00:00:00</td>\n",
       "      <td>897</td>\n",
       "      <td>3223</td>\n",
       "      <td>Eastern Standard Time</td>\n",
       "      <td></td>\n",
       "      <td>American Stock Exchange</td>\n",
       "      <td>true</td>\n",
       "      <td>AMEX</td>\n",
       "      <td>USD</td>\n",
       "    </tr>\n",
       "    <tr>\n",
       "      <th>1</th>\n",
       "      <td>false</td>\n",
       "      <td>2017-03-24T00:00:00</td>\n",
       "      <td>AU</td>\n",
       "      <td>0001-01-01T00:00:00</td>\n",
       "      <td>494</td>\n",
       "      <td>14939</td>\n",
       "      <td>AUS Eastern Standard Time</td>\n",
       "      <td>AX</td>\n",
       "      <td>Australian Securities Exchange</td>\n",
       "      <td>false</td>\n",
       "      <td>ASX</td>\n",
       "      <td>AUD</td>\n",
       "    </tr>\n",
       "    <tr>\n",
       "      <th>2</th>\n",
       "      <td>false</td>\n",
       "      <td>2017-03-24T00:00:00</td>\n",
       "      <td>IN</td>\n",
       "      <td>0001-01-01T00:00:00</td>\n",
       "      <td>0</td>\n",
       "      <td>4370</td>\n",
       "      <td>India Standard Time</td>\n",
       "      <td>I</td>\n",
       "      <td>Bombay Stock Exchange</td>\n",
       "      <td>false</td>\n",
       "      <td>BSE</td>\n",
       "      <td>INR</td>\n",
       "    </tr>\n",
       "    <tr>\n",
       "      <th>3</th>\n",
       "      <td>true</td>\n",
       "      <td>2017-03-24T00:00:00</td>\n",
       "      <td>US</td>\n",
       "      <td>2009-01-01T00:00:00</td>\n",
       "      <td>234</td>\n",
       "      <td>101646</td>\n",
       "      <td>Central Standard Time</td>\n",
       "      <td></td>\n",
       "      <td>Chicago Board of Trade</td>\n",
       "      <td>true</td>\n",
       "      <td>CBOT</td>\n",
       "      <td>USD</td>\n",
       "    </tr>\n",
       "    <tr>\n",
       "      <th>4</th>\n",
       "      <td>true</td>\n",
       "      <td>2017-03-24T00:00:00</td>\n",
       "      <td>US</td>\n",
       "      <td>2009-01-01T00:00:00</td>\n",
       "      <td>0</td>\n",
       "      <td>195</td>\n",
       "      <td>Central Standard Time</td>\n",
       "      <td></td>\n",
       "      <td>Chicago Futures Exchange</td>\n",
       "      <td>true</td>\n",
       "      <td>CFE</td>\n",
       "      <td>USD</td>\n",
       "    </tr>\n",
       "  </tbody>\n",
       "</table>\n",
       "</div>"
      ],
      "text/plain": [
       "  HasIntradayProduct    LastTradeDateTime Country    IntradayStartDate  \\\n",
       "0               true  2017-03-24T09:37:25      US  2008-01-01T00:00:00   \n",
       "1              false  2017-03-24T00:00:00      AU  0001-01-01T00:00:00   \n",
       "2              false  2017-03-24T00:00:00      IN  0001-01-01T00:00:00   \n",
       "3               true  2017-03-24T00:00:00      US  2009-01-01T00:00:00   \n",
       "4               true  2017-03-24T00:00:00      US  2009-01-01T00:00:00   \n",
       "\n",
       "  Declines Advances                   TimeZone Suffix  \\\n",
       "0      897     3223      Eastern Standard Time          \n",
       "1      494    14939  AUS Eastern Standard Time     AX   \n",
       "2        0     4370        India Standard Time      I   \n",
       "3      234   101646      Central Standard Time          \n",
       "4        0      195      Central Standard Time          \n",
       "\n",
       "                             Name IsIntraday  Code Currency  \n",
       "0         American Stock Exchange       true  AMEX      USD  \n",
       "1  Australian Securities Exchange      false   ASX      AUD  \n",
       "2           Bombay Stock Exchange      false   BSE      INR  \n",
       "3          Chicago Board of Trade       true  CBOT      USD  \n",
       "4        Chicago Futures Exchange       true   CFE      USD  "
      ]
     },
     "execution_count": 11,
     "metadata": {},
     "output_type": "execute_result"
    }
   ],
   "source": [
    "# pandas dataframe is returned\n",
    "df = eoddata.exchange_list()\n",
    "\n",
    "df.head()"
   ]
  }
 ],
 "metadata": {
  "anaconda-cloud": {},
  "kernelspec": {
   "display_name": "Python [default]",
   "language": "python",
   "name": "python3"
  },
  "language_info": {
   "codemirror_mode": {
    "name": "ipython",
    "version": 3
   },
   "file_extension": ".py",
   "mimetype": "text/x-python",
   "name": "python",
   "nbconvert_exporter": "python",
   "pygments_lexer": "ipython3",
   "version": "3.5.3"
  },
  "toc": {
   "colors": {
    "hover_highlight": "#DAA520",
    "running_highlight": "#FF0000",
    "selected_highlight": "#FFD700"
   },
   "moveMenuLeft": true,
   "nav_menu": {
    "height": "264px",
    "width": "252px"
   },
   "navigate_menu": true,
   "number_sections": true,
   "sideBar": true,
   "threshold": 4,
   "toc_cell": true,
   "toc_section_display": "block",
   "toc_window_display": true,
   "widenNotebook": false
  }
 },
 "nbformat": 4,
 "nbformat_minor": 0
}
